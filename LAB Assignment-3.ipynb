{
  "nbformat": 4,
  "nbformat_minor": 0,
  "metadata": {
    "colab": {
      "provenance": []
    },
    "kernelspec": {
      "name": "python3",
      "display_name": "Python 3"
    },
    "language_info": {
      "name": "python"
    }
  },
  "cells": [
    {
      "cell_type": "markdown",
      "source": [
        "**LAB Assignment-3**"
      ],
      "metadata": {
        "id": "9MjgtvT_zqAf"
      }
    },
    {
      "cell_type": "markdown",
      "source": [
        "**Q1.**"
      ],
      "metadata": {
        "id": "65YgcLLTztBG"
      }
    },
    {
      "cell_type": "code",
      "source": [
        "def find_pair_with_sum(nums, target):\n",
        "    seen = set()\n",
        "\n",
        "    for num in nums:\n",
        "        complement = target - num\n",
        "        if complement in seen:\n",
        "            return num, complement\n",
        "        seen.add(num)\n",
        "\n",
        "    return None\n",
        "\n",
        "# Example usage:\n",
        "nums = [1, 4, 7, 9, 3, 5]\n",
        "target_sum = 10\n",
        "pair = find_pair_with_sum(nums, target_sum)\n",
        "if pair:\n",
        "    print(\"Pair with sum {} found: {}\".format(target_sum, pair))\n",
        "else:\n",
        "    print(\"No pair found with sum\", target_sum)\n"
      ],
      "metadata": {
        "colab": {
          "base_uri": "https://localhost:8080/"
        },
        "id": "z27Tqtbnzuvs",
        "outputId": "64e91e9d-d369-4634-add5-0436cca74d80"
      },
      "execution_count": 1,
      "outputs": [
        {
          "output_type": "stream",
          "name": "stdout",
          "text": [
            "Pair with sum 10 found: (9, 1)\n"
          ]
        }
      ]
    },
    {
      "cell_type": "markdown",
      "source": [
        "**Q2.**"
      ],
      "metadata": {
        "id": "PFg6DQ-Y0IgW"
      }
    },
    {
      "cell_type": "code",
      "source": [
        "def max_product_pair(nums):\n",
        "    if len(nums) < 2:\n",
        "        return None\n",
        "\n",
        "    max_num1 = float('-inf')\n",
        "    max_num2 = float('-inf')\n",
        "    min_neg1 = float('inf')\n",
        "    min_neg2 = float('inf')\n",
        "\n",
        "    for num in nums:\n",
        "        if num >= max_num1:\n",
        "            max_num2 = max_num1\n",
        "            max_num1 = num\n",
        "        elif num > max_num2:\n",
        "            max_num2 = num\n",
        "\n",
        "        if num < 0 and abs(num) < abs(min_neg1):\n",
        "            min_neg2 = min_neg1\n",
        "            min_neg1 = num\n",
        "        elif num < 0 and abs(num) < abs(min_neg2):\n",
        "            min_neg2 = num\n",
        "\n",
        "    if max_num1 * max_num2 >= min_neg1 * min_neg2:\n",
        "        return max_num1, max_num2\n",
        "    else:\n",
        "        return min_neg1, min_neg2\n",
        "\n",
        "# Example usage:\n",
        "arr = [1, 7, 4, 2, 8, 6, 3, 9, 5]\n",
        "pair = max_product_pair(arr)\n",
        "if pair:\n",
        "    max_product = pair[0] * pair[1]\n",
        "    print(\"Pair with maximum product:\", pair, \"Product:\", max_product)\n",
        "else:\n",
        "    print(\"No suitable pair found.\")\n"
      ],
      "metadata": {
        "colab": {
          "base_uri": "https://localhost:8080/"
        },
        "id": "81NYhlU70LVK",
        "outputId": "91ade2b9-2d7d-4e87-cee7-38a66e48b332"
      },
      "execution_count": 2,
      "outputs": [
        {
          "output_type": "stream",
          "name": "stdout",
          "text": [
            "Pair with maximum product: (inf, inf) Product: inf\n"
          ]
        }
      ]
    },
    {
      "cell_type": "markdown",
      "source": [
        "**Q3.**"
      ],
      "metadata": {
        "id": "xEVJ2dNh0Xgd"
      }
    },
    {
      "cell_type": "code",
      "source": [
        "def find_swapped_elements(arr):\n",
        "    first, second = None, None\n",
        "\n",
        "    for i in range(len(arr) - 1):\n",
        "        if arr[i] > arr[i + 1]:\n",
        "            if first is None:\n",
        "                first = i\n",
        "            else:\n",
        "                second = i + 1\n",
        "\n",
        "    return first, second\n",
        "\n",
        "def sort_array(arr):\n",
        "    first, second = find_swapped_elements(arr)\n",
        "\n",
        "    # Swap the elements at positions first and second\n",
        "    arr[first], arr[second] = arr[second], arr[first]\n",
        "\n",
        "    return arr\n",
        "\n",
        "# Example usage:\n",
        "arr = [1, 5, 3, 4, 2, 6]\n",
        "sorted_arr = sort_array(arr)\n",
        "print(\"Sorted array:\", sorted_arr)\n"
      ],
      "metadata": {
        "colab": {
          "base_uri": "https://localhost:8080/"
        },
        "id": "ExXXexaR0ZSa",
        "outputId": "8d7eb5dc-7e4a-45ad-e865-be3156d7b33c"
      },
      "execution_count": 3,
      "outputs": [
        {
          "output_type": "stream",
          "name": "stdout",
          "text": [
            "Sorted array: [1, 2, 3, 4, 5, 6]\n"
          ]
        }
      ]
    },
    {
      "cell_type": "markdown",
      "source": [
        "**Q4.**"
      ],
      "metadata": {
        "id": "SXZpnX6X0kNC"
      }
    },
    {
      "cell_type": "code",
      "source": [
        "def segregate_zeros_ones(arr):\n",
        "    left = 0\n",
        "    right = len(arr) - 1\n",
        "\n",
        "    while left < right:\n",
        "        while arr[left] == 0 and left < right:\n",
        "            left += 1\n",
        "        while arr[right] == 1 and left < right:\n",
        "            right -= 1\n",
        "\n",
        "        if left < right:\n",
        "            arr[left], arr[right] = arr[right], arr[left]\n",
        "            left += 1\n",
        "            right -= 1\n",
        "\n",
        "    return arr\n",
        "\n",
        "# Example usage:\n",
        "binary_array = [0, 1, 0, 1, 1, 0, 0, 1]\n",
        "segregated_array = segregate_zeros_ones(binary_array)\n",
        "print(\"Segregated array:\", segregated_array)\n"
      ],
      "metadata": {
        "colab": {
          "base_uri": "https://localhost:8080/"
        },
        "id": "hk1DhEnd0l0d",
        "outputId": "e720a997-fbe8-49a0-9cb7-761b2d667e45"
      },
      "execution_count": 4,
      "outputs": [
        {
          "output_type": "stream",
          "name": "stdout",
          "text": [
            "Segregated array: [0, 0, 0, 0, 1, 1, 1, 1]\n"
          ]
        }
      ]
    },
    {
      "cell_type": "markdown",
      "source": [
        "**Q5.**"
      ],
      "metadata": {
        "id": "qq2kiGpe0yLe"
      }
    },
    {
      "cell_type": "code",
      "source": [
        "def merge(arr, temp_arr, left, mid, right):\n",
        "    i = left\n",
        "    j = mid + 1\n",
        "    k = left\n",
        "    inv_count = 0\n",
        "\n",
        "    while i <= mid and j <= right:\n",
        "        if arr[i] <= arr[j]:\n",
        "            temp_arr[k] = arr[i]\n",
        "            i += 1\n",
        "        else:\n",
        "            temp_arr[k] = arr[j]\n",
        "            j += 1\n",
        "            inv_count += (mid - i + 1)\n",
        "        k += 1\n",
        "\n",
        "    while i <= mid:\n",
        "        temp_arr[k] = arr[i]\n",
        "        i += 1\n",
        "        k += 1\n",
        "\n",
        "    while j <= right:\n",
        "        temp_arr[k] = arr[j]\n",
        "        j += 1\n",
        "        k += 1\n",
        "\n",
        "    for l in range(left, right + 1):\n",
        "        arr[l] = temp_arr[l]\n",
        "\n",
        "    return inv_count\n",
        "\n",
        "def merge_sort(arr, temp_arr, left, right):\n",
        "    inv_count = 0\n",
        "\n",
        "    if left < right:\n",
        "        mid = (left + right) // 2\n",
        "        inv_count += merge_sort(arr, temp_arr, left, mid)\n",
        "        inv_count += merge_sort(arr, temp_arr, mid + 1, right)\n",
        "        inv_count += merge(arr, temp_arr, left, mid, right)\n",
        "\n",
        "    return inv_count\n",
        "\n",
        "def inversion_count(arr):\n",
        "    n = len(arr)\n",
        "    temp_arr = [0] * n\n",
        "    return merge_sort(arr, temp_arr, 0, n - 1)\n",
        "\n",
        "# Example usage:\n",
        "A = [10, 1, 2, 4, 13, 9, 5]\n",
        "count = inversion_count(A)\n",
        "print(\"Total count of inversions:\", count)\n"
      ],
      "metadata": {
        "colab": {
          "base_uri": "https://localhost:8080/"
        },
        "id": "ZaNVqvLY0zq0",
        "outputId": "62dfce80-5e35-482a-88f6-02f2ed5d186d"
      },
      "execution_count": 5,
      "outputs": [
        {
          "output_type": "stream",
          "name": "stdout",
          "text": [
            "Total count of inversions: 8\n"
          ]
        }
      ]
    },
    {
      "cell_type": "markdown",
      "source": [
        "**Q6.**"
      ],
      "metadata": {
        "id": "dEB8b8e308f8"
      }
    },
    {
      "cell_type": "code",
      "source": [
        "def two_sum_naive(arr, K):\n",
        "    n = len(arr)\n",
        "    for i in range(n):\n",
        "        for j in range(i + 1, n):\n",
        "            if arr[i] + arr[j] == K:\n",
        "                return True\n",
        "    return False\n",
        "\n",
        "# Example usage:\n",
        "arr = [8, 4, 1, 6]\n",
        "K = 10\n",
        "result = two_sum_naive(arr, K)\n",
        "print(\"Does there exist two numbers summing to\", K, \"?\", result)\n"
      ],
      "metadata": {
        "colab": {
          "base_uri": "https://localhost:8080/"
        },
        "id": "aLX8K5nC0_IA",
        "outputId": "75724b95-a4bd-4cf2-8f62-2c8b9a25989a"
      },
      "execution_count": 6,
      "outputs": [
        {
          "output_type": "stream",
          "name": "stdout",
          "text": [
            "Does there exist two numbers summing to 10 ? True\n"
          ]
        }
      ]
    },
    {
      "cell_type": "code",
      "source": [
        "def two_sum_optimized(arr, K):\n",
        "    arr.sort()\n",
        "    left = 0\n",
        "    right = len(arr) - 1\n",
        "    while left < right:\n",
        "        if arr[left] + arr[right] == K:\n",
        "            return True\n",
        "        elif arr[left] + arr[right] < K:\n",
        "            left += 1\n",
        "        else:\n",
        "            right -= 1\n",
        "    return False\n",
        "\n",
        "# Example usage:\n",
        "arr = [8, 4, 1, 6]\n",
        "K = 10\n",
        "result = two_sum_optimized(arr, K)\n",
        "print(\"Does there exist two numbers summing to\", K, \"?\", result)\n"
      ],
      "metadata": {
        "colab": {
          "base_uri": "https://localhost:8080/"
        },
        "id": "SVwv4hji1LkZ",
        "outputId": "b38fce76-e91b-4ebf-f7f2-f30bcf13b4ff"
      },
      "execution_count": 7,
      "outputs": [
        {
          "output_type": "stream",
          "name": "stdout",
          "text": [
            "Does there exist two numbers summing to 10 ? True\n"
          ]
        }
      ]
    }
  ]
}