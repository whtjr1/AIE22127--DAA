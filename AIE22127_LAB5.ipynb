{
 "cells": [
  {
   "cell_type": "markdown",
   "id": "a9d94dbc-5c3d-4b0a-b9ad-706996854486",
   "metadata": {},
   "source": [
    "**QUESTION-1**"
   ]
  },
  {
   "cell_type": "code",
   "execution_count": 2,
   "id": "4a257b99-6752-46c8-842d-22b088f89230",
   "metadata": {},
   "outputs": [
    {
     "name": "stdin",
     "output_type": "stream",
     "text": [
      "Enter the number of children:  4\n",
      "Enter rating for child 1:  45\n",
      "Enter rating for child 2:  52\n",
      "Enter rating for child 3:  25\n",
      "Enter rating for child 4:  13\n"
     ]
    },
    {
     "name": "stdout",
     "output_type": "stream",
     "text": [
      "Minimum candies Alice must buy: 7\n"
     ]
    }
   ],
   "source": [
    "#Alice is a kindergarten teacher. She wants to give some candies to the children in her class. All the\n",
    "#children sit in a line and each of them has a rating score according to his or her performance in the class.\n",
    "#Alice wants to give at least 1 candy to each child. If two children sit next to each other, then the one with\n",
    "#the higher rating must get more candies. Alice wants to minimize the total number of candies she must\n",
    "#buy.\n",
    "#For example, assume her students' ratings are [4, 6, 4, 5, 6, 2]. She gives the students candy in the\n",
    "#following minimal amounts: [1, 2, 1, 2, 3, 1]. She must buy a minimum of 10 candies\n",
    "def candies(n, arr):\n",
    "    \"\"\"\n",
    "    Calculate the minimum candies needed for the ratings.\n",
    "    \n",
    "    :param n: int - The number of children in the class.\n",
    "    :param arr: List[int] - The ratings of each child.\n",
    "    :return: int - The minimum number of candies required.\n",
    "    \"\"\"\n",
    "    candies = [1] * n  # Step 1: Give each child at least one candy\n",
    "    \n",
    "    # Step 2: Left to right sweep\n",
    "    for i in range(1, n):\n",
    "        if arr[i] > arr[i - 1]:\n",
    "            candies[i] = candies[i - 1] + 1\n",
    "    \n",
    "    # Step 3: Right to left sweep\n",
    "    for i in range(n - 2, -1, -1):\n",
    "        if arr[i] > arr[i + 1]:\n",
    "            candies[i] = max(candies[i], candies[i + 1] + 1)\n",
    "    \n",
    "    # Step 4: Sum up the candies\n",
    "    return sum(candies)\n",
    "\n",
    "# Taking user input\n",
    "n = int(input(\"Enter the number of children: \"))\n",
    "arr = [int(input(f\"Enter rating for child {i+1}: \")) for i in range(n)]\n",
    "\n",
    "# Calculate and print minimum candies needed\n",
    "print(f\"Minimum candies Alice must buy: {candies(n, arr)}\")\n"
   ]
  },
  {
   "cell_type": "markdown",
   "id": "dc3c7bf6-d158-464b-a5d4-f2db24c67a7b",
   "metadata": {},
   "source": [
    "**QUESTION-2**"
   ]
  },
  {
   "cell_type": "code",
   "execution_count": 6,
   "id": "9b4b5455-8769-49b2-9da1-4676b9959265",
   "metadata": {},
   "outputs": [
    {
     "name": "stdin",
     "output_type": "stream",
     "text": [
      "Enter the number of towns:  2\n",
      "Enter the populations of the towns separated by spaces:  10 200\n",
      "Enter the positions of the towns separated by spaces:  20 300\n",
      "Enter the number of clouds:  2\n",
      "Enter the positions of the clouds separated by spaces:  1 2\n",
      "Enter the ranges of the clouds separated by spaces:  100 150\n"
     ]
    },
    {
     "name": "stdout",
     "output_type": "stream",
     "text": [
      "200\n"
     ]
    }
   ],
   "source": [
    "\n",
    "\n",
    "def maximumPeople(p, x, y, r):\n",
    "    events = []\n",
    "    for i, town_pos in enumerate(x):\n",
    "        # Mark the start and end of town influence with population\n",
    "        events.append((town_pos, 'start', p[i]))\n",
    "        events.append((town_pos, 'end', p[i]))\n",
    "    for i, cloud_pos in enumerate(y):\n",
    "        # Mark the start and end of cloud coverage\n",
    "        events.append((cloud_pos - r[i], 'cloud_start', i))\n",
    "        events.append((cloud_pos + r[i], 'cloud_end', i))\n",
    "\n",
    "    events.sort()  # Sort events based on position\n",
    "    \n",
    "    current_clouds = set()\n",
    "    cloud_cover = [0] * len(y)  # Population covered by each cloud\n",
    "    sunny_population = 0\n",
    "    for event in events:\n",
    "        pos, event_type, value = event\n",
    "        if event_type == 'start':\n",
    "            if not current_clouds:  # If no clouds, it's sunny\n",
    "                sunny_population += value\n",
    "            elif len(current_clouds) == 1:  # If one cloud, add population to that cloud's cover\n",
    "                cloud_cover[list(current_clouds)[0]] += value\n",
    "        elif event_type == 'end':\n",
    "            continue  # End of town influence, not needed for logic\n",
    "        elif event_type == 'cloud_start':\n",
    "            current_clouds.add(value)\n",
    "        elif event_type == 'cloud_end':\n",
    "            current_clouds.remove(value)\n",
    "    \n",
    "    # Find the cloud covering the maximum population\n",
    "    max_covered_by_single_cloud = max(cloud_cover)\n",
    "    return sunny_population + max_covered_by_single_cloud\n",
    "\n",
    "# User input\n",
    "n = int(input(\"Enter the number of towns: \"))\n",
    "p = list(map(int, input(\"Enter the populations of the towns separated by spaces: \").split()))\n",
    "x = list(map(int, input(\"Enter the positions of the towns separated by spaces: \").split()))\n",
    "m = int(input(\"Enter the number of clouds: \"))\n",
    "y = list(map(int, input(\"Enter the positions of the clouds separated by spaces: \").split()))\n",
    "r = list(map(int, input(\"Enter the ranges of the clouds separated by spaces: \").split()))\n",
    "\n",
    "# Calculate and print the maximum number of people in sunny towns after removing one cloud\n",
    "print(maximumPeople(p, x, y, r))\n"
   ]
  },
  {
   "cell_type": "markdown",
   "id": "e52dd1b4-db80-471d-8ad6-5f56768646af",
   "metadata": {},
   "source": [
    "**QUESTION-3**"
   ]
  },
  {
   "cell_type": "code",
   "execution_count": null,
   "id": "90f838c1-3a4b-4ce8-af8a-377eb9c6595d",
   "metadata": {},
   "outputs": [
    {
     "name": "stdin",
     "output_type": "stream",
     "text": [
      "Enter the number of towns:  4\n"
     ]
    }
   ],
   "source": [
    "def maximumPeople(town_populations, town_locations, cloud_locations, cloud_ranges):\n",
    "    n = len(town_populations)\n",
    "    m = len(cloud_locations)\n",
    "    \n",
    "    # Initialize total population in sunny towns\n",
    "    total_sunny_population = sum(town_populations)\n",
    "    \n",
    "    # Initialize population covered by each cloud\n",
    "    cloud_covered_population = [0] * m\n",
    "    \n",
    "    # Count population covered by each cloud\n",
    "    for i in range(n):\n",
    "        for j in range(m):\n",
    "            if abs(town_locations[i] - cloud_locations[j]) <= cloud_ranges[j]:\n",
    "                cloud_covered_population[j] += town_populations[i]\n",
    "    \n",
    "    # Find the cloud that covers the maximum population\n",
    "    max_population_covered = max(cloud_covered_population)\n",
    "    max_population_index = cloud_covered_population.index(max_population_covered)\n",
    "    \n",
    "    # Subtract the population covered by the cloud from the total sunny population\n",
    "    total_sunny_population -= max_population_covered\n",
    "    \n",
    "    return total_sunny_population\n",
    "\n",
    "# Input\n",
    "n = int(input(\"Enter the number of towns: \"))\n",
    "town_populations = list(map(int, input(\"Enter the populations of each town: \").split()))\n",
    "town_locations = list(map(int, input(\"Enter the locations of each town: \").split()))\n",
    "\n",
    "m = int(input(\"Enter the number of clouds: \"))\n",
    "cloud_locations = list(map(int, input(\"Enter the locations of each cloud: \").split()))\n",
    "cloud_ranges = list(map(int, input(\"Enter the range of each cloud: \").split()))\n",
    "\n",
    "# Output\n",
    "print(\"Maximum number of people in sunny towns after removing exactly one cloud:\", \n",
    "      maximumPeople(town_populations, town_locations, cloud_locations, cloud_ranges))\n"
   ]
  },
  {
   "cell_type": "code",
   "execution_count": null,
   "id": "260e2a27-db49-474a-a8b8-03742d55717d",
   "metadata": {},
   "outputs": [],
   "source": []
  }
 ],
 "metadata": {
  "kernelspec": {
   "display_name": "Python 3 (ipykernel)",
   "language": "python",
   "name": "python3"
  },
  "language_info": {
   "codemirror_mode": {
    "name": "ipython",
    "version": 3
   },
   "file_extension": ".py",
   "mimetype": "text/x-python",
   "name": "python",
   "nbconvert_exporter": "python",
   "pygments_lexer": "ipython3",
   "version": "3.12.1"
  }
 },
 "nbformat": 4,
 "nbformat_minor": 5
}
