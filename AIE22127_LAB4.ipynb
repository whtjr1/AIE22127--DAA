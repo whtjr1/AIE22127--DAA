{
 "cells": [
  {
   "cell_type": "markdown",
   "id": "71b8a1f9-95d0-4b79-b0b5-c06aeb89245c",
   "metadata": {},
   "source": [
    "**question-1**"
   ]
  },
  {
   "cell_type": "code",
   "execution_count": 1,
   "id": "ff632247-35de-43a8-9af2-d92754a8ca5c",
   "metadata": {},
   "outputs": [
    {
     "name": "stdin",
     "output_type": "stream",
     "text": [
      "Enter the number of items:  4\n",
      "Enter benefit and weight for item 1:  10 5\n",
      "Enter benefit and weight for item 2:  25 7\n",
      "Enter benefit and weight for item 3:  30 6\n",
      "Enter benefit and weight for item 4:  40 8\n",
      "Enter the sack capacity:  9\n"
     ]
    },
    {
     "name": "stdout",
     "output_type": "stream",
     "text": [
      "Optimal Solution:\n",
      "Total value obtained: 45.0\n",
      "Items in the sack:\n",
      "Benefit: 30 - Weight: 6 - Fraction: 1\n",
      "Benefit: 15.0 - Weight: 8 - Fraction: 0.375\n"
     ]
    }
   ],
   "source": [
    "#Solve the fractional knapsack problem for the given set of N items with benefit-weight \n",
    "#pairs and sack capacity of W. Print the optimal solution. Use the examples discussed in the \n",
    "#class\n",
    "\n",
    "def fractional_knapsack(n, items, capacity):\n",
    "    # Calculate value-to-weight ratio for each item\n",
    "    for item in items:\n",
    "        item.append(item[0] / item[1])\n",
    "\n",
    "    # Sort items based on value-to-weight ratio in descending order\n",
    "    items.sort(key=lambda x: x[2], reverse=True)\n",
    "\n",
    "    total_value = 0\n",
    "    sack = []\n",
    "\n",
    "    for item in items:\n",
    "        if capacity >= item[1]:  # If item fits completely in the sack\n",
    "            sack.append((item[0], item[1], 1))\n",
    "            total_value += item[0]\n",
    "            capacity -= item[1]\n",
    "        else:  # If item doesn't fit completely, take fraction of it\n",
    "            fraction = capacity / item[1]\n",
    "            sack.append((item[0] * fraction, item[1], fraction))\n",
    "            total_value += item[0] * fraction\n",
    "            break\n",
    "\n",
    "    return total_value, sack\n",
    "\n",
    "# Input\n",
    "n = int(input(\"Enter the number of items: \"))\n",
    "items = []\n",
    "for i in range(n):\n",
    "    benefit, weight = map(int, input(f\"Enter benefit and weight for item {i+1}: \").split())\n",
    "    items.append([benefit, weight])\n",
    "\n",
    "capacity = int(input(\"Enter the sack capacity: \"))\n",
    "\n",
    "# Solve fractional knapsack problem\n",
    "total_value, sack = fractional_knapsack(n, items, capacity)\n",
    "\n",
    "# Output\n",
    "print(\"Optimal Solution:\")\n",
    "print(\"Total value obtained:\", total_value)\n",
    "print(\"Items in the sack:\")\n",
    "for item in sack:\n",
    "    print(\"Benefit:\", item[0], \"- Weight:\", item[1], \"- Fraction:\", item[2])\n"
   ]
  },
  {
   "cell_type": "markdown",
   "id": "2281a1d9-da45-4beb-85dc-8f774c815274",
   "metadata": {},
   "source": [
    "**question-2**"
   ]
  },
  {
   "cell_type": "code",
   "execution_count": 2,
   "id": "e23edf80-8365-4c9d-b095-4fc53bd424ef",
   "metadata": {},
   "outputs": [
    {
     "name": "stdin",
     "output_type": "stream",
     "text": [
      "Enter the array of integers separated by space:  1 2 3 4 5 6 7 8 9\n"
     ]
    },
    {
     "name": "stdout",
     "output_type": "stream",
     "text": [
      "Maximum sum after rearranging the array: 240\n"
     ]
    }
   ],
   "source": [
    "#Given an array of N integer, we have to maximize the sum of arr[i] * i, where i is the index \n",
    "#of the element (i = 0, 1, 2, ..., N). We can rearrange the position of the integer in the array \n",
    "#to maximize the sum.\n",
    "\n",
    "def maximize_sum(arr):\n",
    "    n = len(arr)\n",
    "    # Sort the array\n",
    "    arr.sort()\n",
    "    # Calculate the sum\n",
    "    max_sum = sum(arr[i] * i for i in range(n))\n",
    "    return max_sum\n",
    "\n",
    "# Input\n",
    "arr = list(map(int, input(\"Enter the array of integers separated by space: \").split()))\n",
    "\n",
    "# Output\n",
    "print(\"Maximum sum after rearranging the array:\", maximize_sum(arr))\n"
   ]
  },
  {
   "cell_type": "markdown",
   "id": "926d1127-4d9b-4e67-93ce-dd4e9ac61a41",
   "metadata": {},
   "source": [
    "**question-3**"
   ]
  },
  {
   "cell_type": "code",
   "execution_count": 3,
   "id": "1e392c13-04e5-4683-8297-a235a04bce32",
   "metadata": {},
   "outputs": [
    {
     "name": "stdin",
     "output_type": "stream",
     "text": [
      "Enter the elements of array_One separated by space:  1 2 4 5 \n",
      "Enter the elements of array_Two separated by space:  3 5 6 7\n"
     ]
    },
    {
     "name": "stdout",
     "output_type": "stream",
     "text": [
      "Minimum sum of products after rearranging the arrays: 54\n"
     ]
    }
   ],
   "source": [
    "#Given two arrays array_One[] and array_Two[] of same size N. We need to first rearrange \n",
    "#the arrays such that the sum of the product of pairs (1 element from each) is minimum. That \n",
    "#is SUM (A[i] * B[i]) for all i is minimum.\n",
    "#• Time complexity of Brute Force Approach: O((N!)^2)\n",
    "#• Time complexity of Greedy Algorithm: O(N logN)\n",
    "\n",
    "def min_sum_of_products(array_One, array_Two):\n",
    "    # Sort both arrays\n",
    "    array_One.sort()\n",
    "    array_Two.sort(reverse=True)  # Sort in reverse order\n",
    "\n",
    "    # Calculate the sum of products\n",
    "    min_sum = sum(array_One[i] * array_Two[i] for i in range(len(array_One)))\n",
    "\n",
    "    return min_sum\n",
    "\n",
    "# Input\n",
    "array_One = list(map(int, input(\"Enter the elements of array_One separated by space: \").split()))\n",
    "array_Two = list(map(int, input(\"Enter the elements of array_Two separated by space: \").split()))\n",
    "\n",
    "# Output\n",
    "print(\"Minimum sum of products after rearranging the arrays:\", min_sum_of_products(array_One, array_Two))\n",
    "\n"
   ]
  },
  {
   "cell_type": "code",
   "execution_count": null,
   "id": "3f12c040-9a77-49fd-8221-495d4db7845c",
   "metadata": {},
   "outputs": [],
   "source": []
  }
 ],
 "metadata": {
  "kernelspec": {
   "display_name": "Python 3 (ipykernel)",
   "language": "python",
   "name": "python3"
  },
  "language_info": {
   "codemirror_mode": {
    "name": "ipython",
    "version": 3
   },
   "file_extension": ".py",
   "mimetype": "text/x-python",
   "name": "python",
   "nbconvert_exporter": "python",
   "pygments_lexer": "ipython3",
   "version": "3.12.1"
  }
 },
 "nbformat": 4,
 "nbformat_minor": 5
}
